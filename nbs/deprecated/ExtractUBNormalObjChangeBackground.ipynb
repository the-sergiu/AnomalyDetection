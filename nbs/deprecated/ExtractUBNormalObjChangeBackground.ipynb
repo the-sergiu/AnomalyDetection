{
 "cells": [
  {
   "cell_type": "code",
   "execution_count": 1,
   "id": "4a83dea3-1cbd-43bd-812a-07bb34c25a91",
   "metadata": {},
   "outputs": [
    {
     "name": "stdout",
     "output_type": "stream",
     "text": [
      "If for semantic segmentation, please install mmsegmentation first\n",
      "If for detection, please install mmdetection first\n",
      "cuda\n"
     ]
    }
   ],
   "source": [
    "import sys\n",
    "sys.path.append('./ml-fastvit')\n",
    "import os\n",
    "import timm\n",
    "import torch\n",
    "import torch.optim as optim\n",
    "import torchvision.utils as vutils\n",
    "import torchvision.transforms as T\n",
    "import torch.nn as nn\n",
    "import models\n",
    "import math\n",
    "import matplotlib.pyplot as plt\n",
    "import matplotlib.image as mpimg\n",
    "import numpy as np\n",
    "import gc\n",
    "\n",
    "import cv2 as cv\n",
    "from pathlib import Path\n",
    "import pdb\n",
    "\n",
    "from torch import Tensor\n",
    "from torch.nn import functional as F\n",
    "from torchvision import datasets, transforms\n",
    "from torch.utils.data import DataLoader\n",
    "from timm.models import create_model\n",
    "from models.modules.mobileone import reparameterize_model\n",
    "from PIL import Image\n",
    "from urllib.request import urlopen\n",
    "\n",
    "from UpsampleTransformerDecoder import UpsampleTransformerDecoder\n",
    "\n",
    "from object_detection_utils import (\n",
    "    read_directory_names_from_file,\n",
    "    imshow,\n",
    "    display_segmentation_map,\n",
    "    list_image_files,\n",
    "    read_tracks\n",
    ")\n",
    "\n",
    "# Before starting the training, make sure to clear any residual memory\n",
    "gc.collect()\n",
    "torch.cuda.empty_cache()\n",
    "\n",
    "device = \"cuda\" if torch.cuda.is_available() else \"cpu\"\n",
    "print(device)"
   ]
  },
  {
   "cell_type": "markdown",
   "id": "e5385808-c1b7-4b38-ad4d-a7be8bc4ed7c",
   "metadata": {},
   "source": [
    "### Example Viz for Seg Map"
   ]
  },
  {
   "cell_type": "code",
   "execution_count": 2,
   "id": "97c3b381-dbd8-4d1a-af21-c9d9b2b7fd8e",
   "metadata": {},
   "outputs": [
    {
     "data": {
      "image/png": "[encoded data removed]",
      "text/plain": [
       "<Figure size 640x480 with 1 Axes>"
      ]
     },
     "metadata": {},
     "output_type": "display_data"
    }
   ],
   "source": [
    "example_seg_map_path = 'datasets/UBNormal/Scene1/abnormal_scene_1_scenario_3_annotations/abnormal_scene_1_scenario_3_0191_gt.png'\n",
    "seg_map = display_segmentation_map(example_seg_map_path)"
   ]
  },
  {
   "cell_type": "markdown",
   "id": "d376b047-5f5f-474a-8b30-61d0124d66db",
   "metadata": {},
   "source": [
    "### Example"
   ]
  },
  {
   "cell_type": "code",
   "execution_count": 50,
   "id": "db4c45b9-2e56-4269-8175-252f24584e1b",
   "metadata": {},
   "outputs": [],
   "source": [
    "import matplotlib.pyplot as plt\n",
    "import matplotlib.image as mpimg\n",
    "import numpy as np\n",
    "from PIL import Image\n",
    "\n",
    "def display_segmentation_map(image_path):\n",
    "    # Load the image from the specified path\n",
    "    segmentation_map = mpimg.imread(image_path)\n",
    "    \n",
    "    # Display the image\n",
    "    plt.imshow(segmentation_map)\n",
    "    plt.title('Segmentation Map')\n",
    "    plt.axis('off')  # Hide the axes\n",
    "    plt.show()\n",
    "\n",
    "# def crop_and_place_object(segmentation_map_path, object_image_path, object_id, target_image_path, output_path):\n",
    "#     segmentation_map = np.array(Image.open(segmentation_map_path))\n",
    "#     object_image = np.array(Image.open(object_image_path))\n",
    "#     target_image = np.array(Image.open(target_image_path))\n",
    "\n",
    "#     # Create a mask for the object based on segmentation map\n",
    "#     object_mask = (segmentation_map == object_id)\n",
    "\n",
    "#     # Apply the mask to the object image\n",
    "#     object_cropped = np.zeros_like(object_image)\n",
    "#     for i in range(3):  # Assuming RGB image\n",
    "#         object_cropped[:,:,i] = object_image[:,:,i] * object_mask\n",
    "\n",
    "#     # Calculate scale factor if object is larger than the target image\n",
    "#     scale_factor = min(target_image.shape[0] / object_cropped.shape[0],\n",
    "#                        target_image.shape[1] / object_cropped.shape[1])\n",
    "#     if scale_factor < 1.0:\n",
    "#         new_size = (int(object_cropped.shape[1] * scale_factor), \n",
    "#                     int(object_cropped.shape[0] * scale_factor))\n",
    "#         object_cropped = np.array(Image.fromarray(object_cropped).resize(new_size, Image.Resampling.LANCZOS))\n",
    "\n",
    "#     # Update placement mask after scaling\n",
    "#     placement_mask = np.sum(object_cropped, axis=-1) > 0  # Update for scaled object\n",
    "\n",
    "#     # Random position to place the object in the target image\n",
    "#     max_x = target_image.shape[0] - object_cropped.shape[0]\n",
    "#     max_y = target_image.shape[1] - object_cropped.shape[1]\n",
    "#     random_x = np.random.randint(0, max_x) if max_x > 0 else 0\n",
    "#     random_y = np.random.randint(0, max_y) if max_y > 0 else 0\n",
    "\n",
    "#     # Place the object in the target image\n",
    "#     for i in range(object_cropped.shape[0]):\n",
    "#         for j in range(object_cropped.shape[1]):\n",
    "#             if placement_mask[i, j]:\n",
    "#                 target_image[random_x + i, random_y + j] = object_cropped[i, j]\n",
    "\n",
    "#     # Save the final image\n",
    "#     Image.fromarray(target_image).save(output_path)\n",
    "\n",
    "def crop_and_place_object(segmentation_map_path, object_image_path, object_id, target_image_path, output_path):\n",
    "    segmentation_map = np.array(Image.open(segmentation_map_path))\n",
    "    object_image = np.array(Image.open(object_image_path))\n",
    "    target_image = np.array(Image.open(target_image_path))\n",
    "\n",
    "    # Check if segmentation map and object image are of the same size\n",
    "    if segmentation_map.shape[:2] != object_image.shape[:2]:\n",
    "        # Resize segmentation map to match object image size\n",
    "        segmentation_map = np.array(Image.fromarray(segmentation_map).resize(\n",
    "            (object_image.shape[1], object_image.shape[0]), Image.NEAREST))\n",
    "\n",
    "    # Create a mask for the object based on segmentation map\n",
    "    object_mask = (segmentation_map == object_id)\n",
    "\n",
    "    # Extend mask to 3D for RGB channels, if needed\n",
    "    if object_image.ndim == 3 and object_mask.ndim == 2:\n",
    "        object_mask = np.stack([object_mask]*3, axis=-1)\n",
    "\n",
    "    # Apply the mask to the object image\n",
    "    object_cropped = object_image * object_mask\n",
    "\n",
    "    # Calculate scale factor if object is larger than the target image\n",
    "    scale_factor = min(target_image.shape[0] / object_cropped.shape[0],\n",
    "                       target_image.shape[1] / object_cropped.shape[1])\n",
    "    if scale_factor < 1.0:\n",
    "        new_size = (int(object_cropped.shape[1] * scale_factor), \n",
    "                    int(object_cropped.shape[0] * scale_factor))\n",
    "        object_cropped = np.array(Image.fromarray(object_cropped).resize(new_size, Image.Resampling.LANCZOS))\n",
    "\n",
    "    # Update placement mask after scaling\n",
    "    placement_mask = np.any(object_cropped > 0, axis=-1)\n",
    "\n",
    "    # Random position to place the object in the target image\n",
    "    max_x = target_image.shape[0] - object_cropped.shape[0]\n",
    "    max_y = target_image.shape[1] - object_cropped.shape[1]\n",
    "    random_x = np.random.randint(0, max_x) if max_x > 0 else 0\n",
    "    random_y = np.random.randint(0, max_y) if max_y > 0 else 0\n",
    "\n",
    "    # Place the object in the target image\n",
    "    for i in range(object_cropped.shape[0]):\n",
    "        for j in range(object_cropped.shape[1]):\n",
    "            if placement_mask[i, j]:\n",
    "                target_image[random_x + i, random_y + j] = object_cropped[i, j]\n",
    "\n",
    "    # Save the final image\n",
    "    Image.fromarray(target_image).save(output_path)\n",
    "\n",
    "# Example usage\n",
    "segmentation_map_path = 'datasets/UBNormal/Scene1/abnormal_scene_1_scenario_3_annotations/abnormal_scene_1_scenario_3_0191_gt.png'\n",
    "object_image_path = 'datasets/UBNormal/train_abnormal_frames/abnormal_scene_1_scenario_3/abnormal_scene_1_scenario_3_0191.jpg'\n",
    "object_id = 1  # Assuming object ID is 1 in the segmentation map\n",
    "target_image_path = 'datasets/Avenue Dataset/avenue_background.jpg'\n",
    "output_path ='datasets/Avenue Dataset/example_ubnormal_placement.jpg'\n",
    "\n",
    "crop_and_place_object(segmentation_map_path, object_image_path, object_id, target_image_path, output_path)\n"
   ]
  },
  {
   "cell_type": "markdown",
   "id": "84d70aac-0c9c-4629-91c0-ac748a9dbb9d",
   "metadata": {},
   "source": [
    "### Read Tracks"
   ]
  },
  {
   "cell_type": "code",
   "execution_count": 4,
   "id": "783bb6ac-0f86-410a-9279-5bb811c6dc74",
   "metadata": {},
   "outputs": [
    {
     "name": "stdout",
     "output_type": "stream",
     "text": [
      "[[2, 260, 360]]\n"
     ]
    }
   ],
   "source": [
    "tracks_path = 'datasets/UBNormal/Scene1/abnormal_scene_1_scenario_3_annotations/abnormal_scene_1_scenario_3_tracks.txt'\n",
    "\n",
    "data = read_tracks(tracks_path)\n",
    "print(data)"
   ]
  },
  {
   "cell_type": "markdown",
   "id": "12c0ab99-7b3c-42aa-a131-7174ad202a7b",
   "metadata": {},
   "source": [
    "### Flow for extracting anomalies onto Avenue Background"
   ]
  },
  {
   "cell_type": "code",
   "execution_count": 5,
   "id": "cacea60c-5b0f-4c6e-8ef6-9b49e2e08443",
   "metadata": {},
   "outputs": [
    {
     "name": "stdout",
     "output_type": "stream",
     "text": [
      "82 ['abnormal_scene_1_scenario_3', 'abnormal_scene_2_scenario_3', 'abnormal_scene_3_scenario_4']\n"
     ]
    }
   ],
   "source": [
    "from natsort import natsorted\n",
    "\n",
    "train_abnormal_vids_path = 'UBNormal/scripts/abnormal_training_video_names.txt'\n",
    "train_abnormal_vids = natsorted(read_directory_names_from_file(train_abnormal_vids_path))\n",
    "print(len(train_abnormal_vids), train_abnormal_vids[:3])"
   ]
  },
  {
   "cell_type": "code",
   "execution_count": 51,
   "id": "998c12cc-164d-4390-abb9-8bf483ab819a",
   "metadata": {},
   "outputs": [
    {
     "name": "stdout",
     "output_type": "stream",
     "text": [
      "abnormal_scene_11_scenario_3_fog\n",
      "abnormal_scene_11_scenario_4_fog\n",
      "abnormal_scene_11_scenario_5\n",
      "abnormal_scene_11_scenario_7\n",
      "abnormal_scene_12_scenario_5\n",
      "abnormal_scene_12_scenario_6\n",
      "abnormal_scene_12_scenario_7\n",
      "abnormal_scene_13_scenario_6\n",
      "abnormal_scene_14_scenario_2\n",
      "abnormal_scene_14_scenario_3\n",
      "abnormal_scene_14_scenario_4\n",
      "abnormal_scene_16_scenario_5\n",
      "abnormal_scene_16_scenario_6\n",
      "abnormal_scene_16_scenario_7\n",
      "abnormal_scene_16_scenario_8\n",
      "abnormal_scene_17_scenario_8\n",
      "abnormal_scene_18_scenario_1\n",
      "abnormal_scene_18_scenario_2\n",
      "abnormal_scene_18_scenario_3\n",
      "abnormal_scene_18_scenario_4\n",
      "abnormal_scene_19_scenario_1\n",
      "abnormal_scene_19_scenario_2\n",
      "abnormal_scene_19_scenario_3\n",
      "abnormal_scene_19_scenario_4\n",
      "abnormal_scene_20_scenario_5\n",
      "abnormal_scene_20_scenario_6\n",
      "abnormal_scene_20_scenario_7\n",
      "abnormal_scene_20_scenario_8\n",
      "abnormal_scene_20_scenario_9\n",
      "abnormal_scene_21_scenario_5\n",
      "abnormal_scene_21_scenario_6\n",
      "abnormal_scene_21_scenario_7\n",
      "abnormal_scene_21_scenario_9\n",
      "abnormal_scene_22_scenario_6\n",
      "abnormal_scene_22_scenario_7\n",
      "abnormal_scene_22_scenario_8\n",
      "abnormal_scene_22_scenario_9\n",
      "abnormal_scene_23_scenario_5\n",
      "abnormal_scene_23_scenario_6\n",
      "abnormal_scene_23_scenario_7\n",
      "abnormal_scene_24_scenario_5\n",
      "abnormal_scene_24_scenario_7\n",
      "abnormal_scene_25_scenario_5\n",
      "abnormal_scene_25_scenario_7\n",
      "abnormal_scene_25_scenario_8\n",
      "abnormal_scene_26_scenario_6\n",
      "abnormal_scene_26_scenario_7\n",
      "abnormal_scene_26_scenario_8\n",
      "abnormal_scene_27_scenario_5\n",
      "abnormal_scene_27_scenario_6\n",
      "abnormal_scene_27_scenario_7\n",
      "abnormal_scene_27_scenario_8\n",
      "abnormal_scene_28_scenario_8\n",
      "abnormal_scene_29_scenario_5\n",
      "abnormal_scene_29_scenario_6\n",
      "abnormal_scene_29_scenario_7\n",
      "abnormal_scene_29_scenario_8\n"
     ]
    }
   ],
   "source": [
    "output_path = \"datasets/UBNormal/train_anomalies_avenue_background_frames/\"\n",
    "avenue_background_path = 'datasets/Avenue Dataset/avenue_background.jpg'\n",
    "abnormal_train_frames_path = 'datasets/UBNormal/train_abnormal_frames/'\n",
    "\n",
    "# Iterate through all videos in abnormal train dataset\n",
    "for vid in train_abnormal_vids[25:]:\n",
    "    print(vid)\n",
    "    terms = vid.split(\"_\")\n",
    "    scene_no = terms[2]\n",
    "    scenario_no = terms[-1]\n",
    "\n",
    "    # We can construct the anootations, tracks paths, output_paths\n",
    "    vid_annotations_path = f\"datasets/UBNormal/Scene{scene_no}/{vid}_annotations/\"\n",
    "    tracks_path = os.path.join(vid_annotations_path, f\"{vid}_tracks.txt\")\n",
    "\n",
    "    # Get abnormal frames images\n",
    "    train_abnormal_frames_paths = natsorted(list_image_files(os.path.join(abnormal_train_frames_path, vid)))\n",
    "    \n",
    "    # Read seg map image names and natsort them\n",
    "    seg_map_images_paths = natsorted(list_image_files(vid_annotations_path))\n",
    "\n",
    "    assert len(train_abnormal_frames_paths) == len(seg_map_images_paths)\n",
    "\n",
    "    # Read tracks\n",
    "    tracks = read_tracks(tracks_path)\n",
    "    \n",
    "    # For each track, extract objects from anomaly frames given seg maps\n",
    "    for track in tracks:\n",
    "        obj_id, start, end = track\n",
    "        \n",
    "        for i in range(start, end):\n",
    "\n",
    "            segmentation_map_path = seg_map_images_paths[i]\n",
    "            object_image_path = train_abnormal_frames_paths[i]\n",
    "            image_name = object_image_path.split(\"/\")[-1].split(\".\")[0] # without extension\n",
    "            image_save_path = os.path.join(output_path, vid, image_name + f\"_{str(object_id)}.jpg\")\n",
    "\n",
    "            crop_and_place_object(segmentation_map_path, object_image_path, obj_id, avenue_background_path, image_save_path)\n",
    "    \n"
   ]
  },
  {
   "cell_type": "code",
   "execution_count": null,
   "id": "1fc5b8a7-e83b-4ac4-b772-c97f4e829f57",
   "metadata": {},
   "outputs": [],
   "source": []
  }
 ],
 "metadata": {
  "kernelspec": {
   "display_name": "Python 3 (ipykernel)",
   "language": "python",
   "name": "python3"
  },
  "language_info": {
   "codemirror_mode": {
    "name": "ipython",
    "version": 3
   },
   "file_extension": ".py",
   "mimetype": "text/x-python",
   "name": "python",
   "nbconvert_exporter": "python",
   "pygments_lexer": "ipython3",
   "version": "3.10.8"
  }
 },
 "nbformat": 4,
 "nbformat_minor": 5
}
