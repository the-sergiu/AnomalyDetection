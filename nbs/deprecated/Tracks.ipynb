{
 "cells": [
  {
   "cell_type": "code",
   "execution_count": 2,
   "id": "73daa7d7-4339-4405-a4d5-a39c8927804e",
   "metadata": {},
   "outputs": [],
   "source": [
    "import sys\n",
    "import glob\n",
    "import pickle\n",
    "import os\n",
    "# sys.path.append('./abnorm_event_detect/')\n",
    "sys.path.append('./abnorm_event_detect/evaluation/')"
   ]
  },
  {
   "cell_type": "code",
   "execution_count": 3,
   "id": "76fdb11b-b8e1-4adf-a13a-ab6d8fc46335",
   "metadata": {},
   "outputs": [],
   "source": [
    "os.chdir('abnorm_event_detect')"
   ]
  },
  {
   "cell_type": "code",
   "execution_count": 4,
   "id": "d5bd9daa-0aea-4636-b370-6c672928ac2c",
   "metadata": {},
   "outputs": [],
   "source": [
    "# from abnorm_event_detectevaluation import merge_tracks, track\n",
    "import evaluation.track, evaluation.merge_tracks"
   ]
  },
  {
   "cell_type": "code",
   "execution_count": 5,
   "id": "4a5e5a65-b261-48ed-a58b-aee0785bf03d",
   "metadata": {},
   "outputs": [],
   "source": [
    "os.chdir('..')"
   ]
  },
  {
   "cell_type": "code",
   "execution_count": 6,
   "id": "c7d2701a-bad4-405f-a953-1ec2470c8f0c",
   "metadata": {},
   "outputs": [],
   "source": [
    "def list_files(directory, file_types=['*.pkl']):\n",
    "    files = []\n",
    "    for file_type in file_types:\n",
    "        files.extend(glob.glob(os.path.join(directory, file_type)))\n",
    "    return files"
   ]
  },
  {
   "cell_type": "code",
   "execution_count": 7,
   "id": "6689e583-3109-49db-a962-f86848e510ee",
   "metadata": {},
   "outputs": [],
   "source": [
    "def load_pkl_objects(path, pattern=\"*.pkl\"):\n",
    "    \"\"\"\n",
    "    Load and return objects from .pkl files in the given path that match the specified pattern.\n",
    "\n",
    "    :param path: The directory path to search for pickle files.\n",
    "    :param pattern: The pattern to match filenames. Default is '*cont.pkl'.\n",
    "    :return: A list of objects loaded from the matching pickle files.\n",
    "    \"\"\"\n",
    "    files_pattern = f\"{path}/{pattern}\"\n",
    "    pkl_files = glob.glob(files_pattern)\n",
    "    \n",
    "    objects = []\n",
    "    for file in pkl_files:\n",
    "        with open(file, 'rb') as f:\n",
    "            obj = pickle.load(f)\n",
    "            objects.append(obj)\n",
    "    \n",
    "    return objects"
   ]
  },
  {
   "cell_type": "markdown",
   "id": "e3cff341-28db-4ab6-8071-91d4ceebecdc",
   "metadata": {},
   "source": [
    "### Avenue Tracks "
   ]
  },
  {
   "cell_type": "code",
   "execution_count": 8,
   "id": "428a418e-54ef-45e0-b840-de5f8df1e19c",
   "metadata": {},
   "outputs": [
    {
     "name": "stdout",
     "output_type": "stream",
     "text": [
      "21 ['./tracks/tracks_avenue/01.pkl', './tracks/tracks_avenue/02.pkl', './tracks/tracks_avenue/03.pkl', './tracks/tracks_avenue/04.pkl', './tracks/tracks_avenue/05.pkl']\n",
      "21 ['./tracks/tracks_avenue/01_cont.pkl', './tracks/tracks_avenue/02_cont.pkl', './tracks/tracks_avenue/03_cont.pkl', './tracks/tracks_avenue/04_cont.pkl', './tracks/tracks_avenue/05_cont.pkl']\n"
     ]
    }
   ],
   "source": [
    "# Example usage\n",
    "path = './tracks/tracks_avenue/'\n",
    "pkl_files = [file for file in list_files(path) if 'cont' not in file]\n",
    "pkl_cont = [file for file in list_files(path) if 'cont'  in file]\n",
    "# loaded_objects = load_pkl_objects(path, pattern=\"*_cont.pkl\")\n",
    "print(len(pkl_files), pkl_files[:5])\n",
    "print(len(pkl_files), pkl_cont[:5])"
   ]
  },
  {
   "cell_type": "code",
   "execution_count": 9,
   "id": "f5c5612b-d258-4f40-a47c-0d71e0c84fc2",
   "metadata": {},
   "outputs": [],
   "source": [
    "pkl_files_objects = []\n",
    "for file in pkl_files:\n",
    "    with open(file, 'rb') as f:\n",
    "        obj = pickle.load(f)\n",
    "        pkl_files_objects.append(obj)"
   ]
  },
  {
   "cell_type": "code",
   "execution_count": 10,
   "id": "9e706330-5eaf-4675-ba32-b11588b30c44",
   "metadata": {},
   "outputs": [
    {
     "data": {
      "text/plain": [
       "21"
      ]
     },
     "execution_count": 10,
     "metadata": {},
     "output_type": "execute_result"
    }
   ],
   "source": [
    "len(pkl_files_objects)"
   ]
  },
  {
   "cell_type": "code",
   "execution_count": null,
   "id": "25f4d9e5-ce19-468f-99da-8f756eb973be",
   "metadata": {},
   "outputs": [],
   "source": [
    "for lst in pkl_files_objects:\n",
    "    for obj in lst:\n",
    "        print(obj.video_name)\n",
    "        print(obj.bboxes)"
   ]
  },
  {
   "cell_type": "code",
   "execution_count": 12,
   "id": "a67c433b-a7dd-43f4-8315-8d715c6594d2",
   "metadata": {},
   "outputs": [],
   "source": [
    "pkl_cont_files_objects = []\n",
    "for file in pkl_files:\n",
    "    with open(file, 'rb') as f:\n",
    "        obj = pickle.load(f)\n",
    "        pkl_cont_files_objects.append(obj)"
   ]
  },
  {
   "cell_type": "code",
   "execution_count": 13,
   "id": "62b2f18b-842e-43af-a272-a0de378fbfe4",
   "metadata": {},
   "outputs": [
    {
     "data": {
      "text/plain": [
       "21"
      ]
     },
     "execution_count": 13,
     "metadata": {},
     "output_type": "execute_result"
    }
   ],
   "source": [
    "len(pkl_cont_files_objects)"
   ]
  },
  {
   "cell_type": "code",
   "execution_count": null,
   "id": "13668d93-4c4a-47b6-9266-77f2e7b101b1",
   "metadata": {},
   "outputs": [],
   "source": [
    "pkl_cont_files_objects"
   ]
  },
  {
   "cell_type": "code",
   "execution_count": null,
   "id": "17354076-6191-4cab-b519-d9f3a5da6bdf",
   "metadata": {},
   "outputs": [],
   "source": [
    "for lst in pkl_cont_files_objects:\n",
    "    for obj in lst:\n",
    "        print(obj.video_name)\n",
    "        print(obj.bboxes)"
   ]
  },
  {
   "cell_type": "markdown",
   "id": "fdb61653-c434-42f4-9b0f-e28cffb842be",
   "metadata": {},
   "source": [
    "### Shanghai Tracks"
   ]
  },
  {
   "cell_type": "code",
   "execution_count": 26,
   "id": "413a01c3-03dc-450c-968a-d3e17b437054",
   "metadata": {},
   "outputs": [
    {
     "name": "stdout",
     "output_type": "stream",
     "text": [
      "107 ['./tracks/tracks_shanghai/01_0014.pkl', './tracks/tracks_shanghai/01_0015.pkl', './tracks/tracks_shanghai/01_0016.pkl', './tracks/tracks_shanghai/01_0025.pkl', './tracks/tracks_shanghai/01_0026.pkl']\n"
     ]
    }
   ],
   "source": [
    "# Example usage\n",
    "path = './tracks/tracks_shanghai/'\n",
    "sh_pkl_files = [file for file in list_files(path) if 'old' not in file]\n",
    "print(len(sh_pkl_files), sh_pkl_files[:5])"
   ]
  },
  {
   "cell_type": "code",
   "execution_count": 27,
   "id": "40d96de5-74d4-4463-982e-242c1f52089c",
   "metadata": {},
   "outputs": [],
   "source": [
    "sh_pkl_files_objects = []\n",
    "for file in sh_pkl_files:\n",
    "    with open(file, 'rb') as f:\n",
    "        obj = pickle.load(f)\n",
    "        sh_pkl_files_objects.append(obj)"
   ]
  },
  {
   "cell_type": "code",
   "execution_count": 28,
   "id": "aadc693d-0020-43d7-8e29-5617fc3a4ebc",
   "metadata": {},
   "outputs": [
    {
     "data": {
      "text/plain": [
       "107"
      ]
     },
     "execution_count": 28,
     "metadata": {},
     "output_type": "execute_result"
    }
   ],
   "source": [
    "len(sh_pkl_files_objects)"
   ]
  }
 ],
 "metadata": {
  "kernelspec": {
   "display_name": "Python 3 (ipykernel)",
   "language": "python",
   "name": "python3"
  },
  "language_info": {
   "codemirror_mode": {
    "name": "ipython",
    "version": 3
   },
   "file_extension": ".py",
   "mimetype": "text/x-python",
   "name": "python",
   "nbconvert_exporter": "python",
   "pygments_lexer": "ipython3",
   "version": "3.10.8"
  }
 },
 "nbformat": 4,
 "nbformat_minor": 5
}
